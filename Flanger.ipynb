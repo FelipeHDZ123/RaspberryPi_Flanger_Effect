{
  "nbformat": 4,
  "nbformat_minor": 0,
  "metadata": {
    "colab": {
      "provenance": []
    },
    "kernelspec": {
      "name": "python3",
      "display_name": "Python 3"
    },
    "language_info": {
      "name": "python"
    }
  },
  "cells": [
    {
      "cell_type": "code",
      "execution_count": null,
      "metadata": {
        "id": "SxXDDQy2nBdg"
      },
      "outputs": [],
      "source": [
        "import numpy as np"
      ]
    },
    {
      "cell_type": "code",
      "source": [
        "delay        = 0.01\n",
        "mod_width    = 0.003\n",
        "mod_freq     = 1\n",
        "fs           = 44.1E03 # sampling rate for audio CDs\n",
        "ratio        = mod_freq / fs\n",
        "M0           = np.floor(fs * delay)\n",
        "width        = np.floor(fs * mod_width)\n",
        "Nl           = 0.5 * fs\n",
        "g            = 1 # notch depth [0,1]\n",
        "phase        = 0\n",
        "i_n          = 0\n",
        "# maximum delay\n",
        "# L = fs(delay + mod_width) + 2\n",
        "delay_length = M0 + width + 2 # f441 + f132.3 + 2 = 575\n",
        "delay_buffer = np.zeros(delay_length)\n",
        "\n",
        "def lfo(i=1):\n",
        "  global phase\n",
        "  # no. of notches\n",
        "  # if phase [offset = 0, 1/8], then [M0, fs(delay + md_width)]\n",
        "  Mn = M0 + width*np.sin(2*np.pi*phase)\n",
        "  # evolution of phase\n",
        "  phase  = phase + (i * ratio)\n",
        "  # closure over the phase, sin over one single period\n",
        "  if(phase > 1.0):\n",
        "    phase = phase - 1.0\n",
        "  return Mn\n",
        "\n",
        "def delay_line(i_m):\n",
        "  global i_n, delay_buffer\n",
        "  # We force index from zero and above for inputs\n",
        "  idx = i_n - i_m\n",
        "  if idx < 0:\n",
        "    idx = idx + delay_length\n",
        "  return delay_buffer[idx]\n",
        "\n",
        "def push(sample):\n",
        "  global i_n, delay_buffer\n",
        "   # push sample and closure on/over superior limit\n",
        "  delay_buffer[i_n] = sample\n",
        "  i_n = i_n + 1\n",
        "  if i_n + 1 >= delay_length:\n",
        "    i_n = i_n - delay_length\n",
        "\n",
        "def flanger(x):\n",
        "# We are on digital domain so we're forced to clip the delay line\n",
        "  m = np.floor(lfo())\n",
        "  # how far in between [n-M, n-M+1] we want to find a value to compensate\n",
        "  # for the previous\n",
        "  eta = lfo() - m\n",
        "  # Le pasamos el retardo digital m\n",
        "  x_eta = ((1 - eta) * delay_line(m)) + (eta * delay_line(m + 1))\n",
        "\n",
        "  push(x)\n",
        "  return x + g * x_eta\n",
        "\n",
        "def main():\n",
        "  for i in range(len(signal)):\n",
        "    y[i] = flanger(signal[i])\n",
        "  y = y / max(np.abs(y))\n",
        "\n",
        "  if __name__ == \"__main__\":\n",
        "    main()\n"
      ],
      "metadata": {
        "id": "U0p5P_yF25Hg"
      },
      "execution_count": null,
      "outputs": []
    },
    {
      "cell_type": "markdown",
      "source": [
        "Since $M(n)$ must vary smoothly over time, it is clearly neccesary to use an interpolated delay line to provide non-integer values of $M$ in a smooth fashion\n",
        "\n",
        "Linearly interpolated delay line $$x((n-M)+\\eta)=\\eta x((n-M)+1) + (1-\\eta)x(n-M)$$\n",
        "$\\eta$ fractional delay in samples"
      ],
      "metadata": {
        "id": "AObgAnL-s-K0"
      }
    },
    {
      "cell_type": "markdown",
      "source": [
        "Difference Equation of simple flanger $$y(n)=x(n)+gx(n-M(n))$$"
      ],
      "metadata": {
        "id": "_u_ZkDko9ThO"
      }
    },
    {
      "cell_type": "markdown",
      "source": [
        "Delay line length\n",
        "$$M(n) = M_0 + M_0Asin(2\\pi \\phi), \\phi=nfT_s$$\n",
        "f rate of flanger (speed of notch movement),\n",
        "A maximum delay swing fixed,\n",
        "$M_0$ average delay length fixed,\n",
        "$T_s$ rate of sampling.\n",
        "when $$\\phi=1/8, sin(2\\pi \\phi)=1$$\n",
        "Delay range is $$M_0\\pm width=441 \\pm floor(132.3) = [309, 573]$$ of $264$ values of phase $i=1,\\cdots \\times$ ratio $2.27\\times 10^{-5}$ per iteration"
      ],
      "metadata": {
        "id": "V9YtjcOp6puf"
      }
    },
    {
      "cell_type": "code",
      "source": [
        "x=0\n",
        "y=1\n",
        "print(x,y)\n",
        "def adder(i=1):\n",
        "  global x\n",
        "  y=1\n",
        "  x = x + i*2\n",
        "  y = y + i*2\n",
        "  print(x,y)\n",
        "\n",
        "for b in (1,2,3,4,5):\n",
        "  adder()\n",
        "print(x,y)\n"
      ],
      "metadata": {
        "id": "UWYr5Ylz6xKq",
        "colab": {
          "base_uri": "https://localhost:8080/"
        },
        "outputId": "ef1c1499-b9f1-4037-ab0d-866f4c4d637e"
      },
      "execution_count": 21,
      "outputs": [
        {
          "output_type": "stream",
          "name": "stdout",
          "text": [
            "0 1\n",
            "2 3\n",
            "4 3\n",
            "6 3\n",
            "8 3\n",
            "10 3\n",
            "10 1\n"
          ]
        }
      ]
    },
    {
      "cell_type": "code",
      "source": [],
      "metadata": {
        "id": "PWBFVVm5C6Az"
      },
      "execution_count": null,
      "outputs": []
    }
  ]
}