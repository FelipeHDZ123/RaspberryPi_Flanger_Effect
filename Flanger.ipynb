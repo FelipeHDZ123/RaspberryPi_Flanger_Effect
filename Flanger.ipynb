{
  "nbformat": 4,
  "nbformat_minor": 0,
  "metadata": {
    "colab": {
      "provenance": []
    },
    "kernelspec": {
      "name": "python3",
      "display_name": "Python 3"
    },
    "language_info": {
      "name": "python"
    }
  },
  "cells": [
    {
      "cell_type": "code",
      "execution_count": null,
      "metadata": {
        "id": "SxXDDQy2nBdg"
      },
      "outputs": [],
      "source": [
        "import numpy as np"
      ]
    },
    {
      "cell_type": "code",
      "source": [
        "delay     = 0.01\n",
        "mod_width = 0.003\n",
        "mod_freq  = 1\n",
        "fs        = 44.1E03 # sampling rate for audio CDs\n",
        "M0        = np.floor(fs*delay)\n",
        "width     = np.floor(fs*mod_width)\n",
        "Nl        = 0.5 * fs\n",
        "g         = 1 # notch depth [0,1]\n",
        "\n",
        "def lfo(fs, delay):\n",
        "  # no. of notches\n",
        "  # if phase [offset = 0, 1/4], then [M0, fs(delay + md_width)]\n",
        "  Mn = M0 + width*np.sin(2*np.pi*phase)\n",
        "  # evolution of phase\n",
        "  phase  = phase + (n * ratio)\n",
        "  # closure over the phase, sin over one single period\n",
        "  if(phase > 1.0):\n",
        "    phase = phase - 1.0\n",
        "  return Mn\n",
        "\n",
        "def delay_line():\n",
        "  # maximum delay\n",
        "  # L = fs(delay + mod_width) + 2\n",
        "  delay_length = M0 + width + 2 #?? f441 + f132.3 + 2 = 575\n",
        "  buffer = np.zeros(delay_length)\n",
        "\n",
        "  # ??\n",
        "  idx_x = pos - idx\n",
        "  if idx_x < 0:\n",
        "    idx_x = idx_x + delay_length\n",
        "  return buffer[idx_x]\n",
        "\n",
        "def main():\n",
        "  # We are on digital domain so we're forced to clip the delay line\n",
        "  m = np.floor(Mn)\n",
        "  # how far in between [n-M, n-M+1] we want to find a value to compensate\n",
        "  # for the previous\n",
        "  eta = Mn - m\n",
        "  x_eta = ((1 - eta) * xn) + (eta * xn1)\n",
        "\n",
        "   # push sample and closure on/over superior limit\n",
        "  buffer[pos] = sample\n",
        "  pos = pos + 1\n",
        "  if pos + 1 >= delay_length:\n",
        "    pos = pos - delay_length\n",
        "\n",
        "  return x + g * x_eta"
      ],
      "metadata": {
        "id": "U0p5P_yF25Hg"
      },
      "execution_count": null,
      "outputs": []
    },
    {
      "cell_type": "markdown",
      "source": [
        "Since $M(n)$ must vary smoothly over time, it is clearly neccesary to use an interpolated delay line to provide non-integer values of $M$ in a smooth fashion\n",
        "\n",
        "Linearly interpolated delay line $$x((n-M)+\\eta)=\\eta x((n-M)+1) + (1-\\eta)x(n-M)$$\n",
        "$\\eta$ fractional delay in samples"
      ],
      "metadata": {
        "id": "AObgAnL-s-K0"
      }
    },
    {
      "cell_type": "markdown",
      "source": [
        "Difference Equation of simple flanger $$y(n)=x(n)+gx(n-M(n))$$"
      ],
      "metadata": {
        "id": "_u_ZkDko9ThO"
      }
    },
    {
      "cell_type": "markdown",
      "source": [
        "Delay line length\n",
        "$$M(n) = M_0 + M_0Asin(2\\pi fnT_s))$$\n",
        "f rate of flanger (speed of notch movement),\n",
        "A maximum delay swing fixed,\n",
        "$M_0$ average delay length fixed,\n",
        "$T_s$ rate of sampling."
      ],
      "metadata": {
        "id": "V9YtjcOp6puf"
      }
    },
    {
      "cell_type": "code",
      "source": [],
      "metadata": {
        "id": "UWYr5Ylz6xKq"
      },
      "execution_count": null,
      "outputs": []
    }
  ]
}